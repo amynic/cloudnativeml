{
 "cells": [
  {
   "cell_type": "code",
   "execution_count": null,
   "metadata": {},
   "outputs": [],
   "source": [
    "# Import azureml sdk packages\n",
    "from azureml.core import Workspace, Experiment, Environment, ScriptRunConfig\n",
    "from azureml.core.compute_target import ComputeTargetException\n",
    "from azureml.core.compute import ComputeTarget, AmlCompute\n",
    "from azureml.train.estimator import Estimator\n",
    "import azureml.core\n",
    "\n",
    "# check core SDK version number\n",
    "print(\"Azure ML SDK Version: \", azureml.core.VERSION)\n",
    "\n",
    "# Log into a workspace\n",
    "try:\n",
    "    ws = Workspace.from_config()\n",
    "    print(\"Using workspace:\",ws.name,\"in region\", ws.location)\n",
    "except:\n",
    "    print('Workspace not found')"
   ]
  },
  {
   "cell_type": "code",
   "execution_count": null,
   "metadata": {},
   "outputs": [],
   "source": [
    "# Connect to the default datastore\n",
    "ds = ws.get_default_datastore()\n",
    "print(ds)"
   ]
  },
  {
   "cell_type": "code",
   "execution_count": null,
   "metadata": {},
   "outputs": [],
   "source": [
    "from keras.datasets import fashion_mnist\n",
    "from azureml.core.dataset import Dataset\n",
    "import os\n",
    "import numpy as np\n",
    "\n",
    "#Create DIR\n",
    "os.makedirs('dataset', exist_ok=True)\n",
    "\n",
    "#Load and save data to file\n",
    "fashion_dataset = fashion_mnist.load_data()\n",
    "np.save('dataset/fashion-mnist-raw',fashion_dataset)\n",
    "\n",
    "# Upload data to the data store\n",
    "ds.upload('dataset', target_path='fashion_mnist_data', overwrite=False, show_progress=True)"
   ]
  },
  {
   "cell_type": "code",
   "execution_count": null,
   "metadata": {},
   "outputs": [],
   "source": [
    "# create a FileDataset pointing to files in 'dataset' folder\n",
    "datastore_path = [(ds, 'fashion_mnist_data')]\n",
    "fashion_mnist_ds = Dataset.File.from_files(path=datastore_path)\n",
    "\n",
    "reg_fmnist_data = fashion_mnist_ds.register(workspace=ws,\n",
    "                                 name='fashion_mnist_ds',\n",
    "                                 description='fashion_mnist training data')"
   ]
  },
  {
   "cell_type": "code",
   "execution_count": null,
   "metadata": {},
   "outputs": [],
   "source": [
    "dataset_name = 'fashion_mnist_ds'\n",
    "\n",
    "# Get a dataset by name\n",
    "fashion_mnist_raw = Dataset.get_by_name(workspace=ws, name=dataset_name)\n",
    "print(fashion_mnist_raw)"
   ]
  }
 ],
 "metadata": {
  "kernelspec": {
   "display_name": "Python 3.6 - AzureML",
   "language": "python",
   "name": "python3-azureml"
  },
  "language_info": {
   "codemirror_mode": {
    "name": "ipython",
    "version": 3
   },
   "file_extension": ".py",
   "mimetype": "text/x-python",
   "name": "python",
   "nbconvert_exporter": "python",
   "pygments_lexer": "ipython3",
   "version": "3.6.9"
  }
 },
 "nbformat": 4,
 "nbformat_minor": 4
}
