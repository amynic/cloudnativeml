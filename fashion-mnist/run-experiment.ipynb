{
 "cells": [
  {
   "cell_type": "markdown",
   "metadata": {},
   "source": [
    "# AML Framework Code"
   ]
  },
  {
   "cell_type": "code",
   "execution_count": null,
   "metadata": {},
   "outputs": [],
   "source": [
    "# Import azureml sdk packages\n",
    "from azureml.core import Workspace, Experiment, Environment, ScriptRunConfig\n",
    "from azureml.core.compute_target import ComputeTargetException\n",
    "from azureml.core.compute import ComputeTarget, AmlCompute\n",
    "from azureml.train.estimator import Estimator\n",
    "import azureml.core\n",
    "\n",
    "# check core SDK version number\n",
    "print(\"Azure ML SDK Version: \", azureml.core.VERSION)"
   ]
  },
  {
   "cell_type": "code",
   "execution_count": null,
   "metadata": {},
   "outputs": [],
   "source": [
    "# Set variables\n",
    "cluster_name     = \"larger-cluster\"\n",
    "experiment_name  = \"fashion-mnist\"\n",
    "environment_file = \"fashion-env.yml\"\n",
    "environment_name = \"fashionenv\"\n",
    "training_script = 'fashion-mnist-code.py'"
   ]
  },
  {
   "cell_type": "code",
   "execution_count": null,
   "metadata": {},
   "outputs": [],
   "source": [
    "# Log into a workspace\n",
    "try:\n",
    "    ws = Workspace.from_config()\n",
    "    print(\"Using workspace:\",ws.name,\"in region\", ws.location)\n",
    "except:\n",
    "    print('Workspace not found')"
   ]
  },
  {
   "cell_type": "code",
   "execution_count": null,
   "metadata": {},
   "outputs": [],
   "source": [
    "# Choose computer cluster\n",
    "try:\n",
    "    cluster = ComputeTarget(workspace=ws, name=cluster_name)\n",
    "    print('Using compute cluster:', cluster_name)\n",
    "except ComputeTargetException:\n",
    "    compute_config = AmlCompute.provisioning_configuration(vm_size='STANDARD_D3_V2',\n",
    "                                                           vm_priority='lowpriority',\n",
    "                                                           min_nodes=0,\n",
    "                                                           max_nodes=4)\n",
    "    cluster = ComputeTarget.create(ws, cluster_name, compute_config)\n",
    "    cluster.wait_for_completion(show_output=True)"
   ]
  },
  {
   "cell_type": "code",
   "execution_count": null,
   "metadata": {},
   "outputs": [],
   "source": [
    "# Connect to the default datastore\n",
    "ds = ws.get_default_datastore()"
   ]
  },
  {
   "cell_type": "code",
   "execution_count": null,
   "metadata": {},
   "outputs": [],
   "source": [
    "# Create an experiment or connect if it exists\n",
    "exp = Experiment(workspace=ws, name=experiment_name)"
   ]
  },
  {
   "cell_type": "code",
   "execution_count": null,
   "metadata": {},
   "outputs": [],
   "source": [
    "# create an environment from conda yml file\n",
    "fashionenv = Environment.from_conda_specification(name = environment_name ,\n",
    "                                          file_path = environment_file )\n",
    "print(fashionenv)\n",
    "\n",
    "fashionenv.register(workspace=ws)"
   ]
  },
  {
   "cell_type": "code",
   "execution_count": null,
   "metadata": {},
   "outputs": [],
   "source": [
    "# List environments\n",
    "envs = Environment.list(workspace=ws)\n",
    "\n",
    "for env in envs:\n",
    "    if env.startswith(\"fashion\"):\n",
    "        print(\"Name\",env)\n",
    "        print(\"packages\", envs[env].python.conda_dependencies.serialize_to_string())"
   ]
  },
  {
   "cell_type": "code",
   "execution_count": null,
   "metadata": {},
   "outputs": [],
   "source": [
    "# Create training folder and move train.py file into it\n",
    "import os\n",
    "import shutil\n",
    "\n",
    "script_folder = os.path.join(os.getcwd(), \"fashion-mnist\")\n",
    "os.makedirs(script_folder, exist_ok=True)\n",
    "shutil.copy(training_script, script_folder)"
   ]
  },
  {
   "cell_type": "code",
   "execution_count": null,
   "metadata": {},
   "outputs": [],
   "source": [
    "# create ScriptRunConfig object and connect environment\n",
    "from azureml.core import ScriptRunConfig\n",
    "\n",
    "args = ['--data-folder', '--regularization', 0.5]\n",
    "\n",
    "src = ScriptRunConfig(source_directory=script_folder,\n",
    "                      script=training_script, \n",
    "                      arguments=args,\n",
    "                      compute_target=cluster,\n",
    "                      environment=fashionenv)"
   ]
  },
  {
   "cell_type": "code",
   "execution_count": null,
   "metadata": {},
   "outputs": [],
   "source": [
    "# Submit a run\n",
    "run = exp.submit(src)\n",
    "aml_url = run.get_portal_url()\n",
    "print(aml_url)"
   ]
  },
  {
   "cell_type": "code",
   "execution_count": null,
   "metadata": {},
   "outputs": [],
   "source": [
    "# View Jupyter widget\n",
    "from azureml.widgets import RunDetails\n",
    "RunDetails(run).show()"
   ]
  }
 ],
 "metadata": {
  "kernelspec": {
   "display_name": "Python 3.6 - AzureML",
   "language": "python",
   "name": "python3-azureml"
  },
  "language_info": {
   "codemirror_mode": {
    "name": "ipython",
    "version": 3
   },
   "file_extension": ".py",
   "mimetype": "text/x-python",
   "name": "python",
   "nbconvert_exporter": "python",
   "pygments_lexer": "ipython3",
   "version": "3.6.9"
  }
 },
 "nbformat": 4,
 "nbformat_minor": 4
}